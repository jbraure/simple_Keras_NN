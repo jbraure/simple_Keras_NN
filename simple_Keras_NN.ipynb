{
 "cells": [
  {
   "cell_type": "markdown",
   "metadata": {},
   "source": [
    "# Simple Deep Learning Neural Net using Keras\n",
    "The goal of this notebook is define and trains a very simple NN using Keras and make some prediction using a given dataset.\n",
    "* Sources : \n",
    "    * https://machinelearningmastery.com/tutorial-first-neural-network-python-keras/\n",
    "    * https://machinelearningmastery.com/display-deep-learning-model-training-history-in-keras/"
   ]
  },
  {
   "cell_type": "markdown",
   "metadata": {},
   "source": [
    "### Installing libraries"
   ]
  },
  {
   "cell_type": "code",
   "execution_count": 10,
   "metadata": {},
   "outputs": [
    {
     "name": "stdout",
     "output_type": "stream",
     "text": [
      "Requirement already satisfied: keras in /Library/Frameworks/Python.framework/Versions/3.7/lib/python3.7/site-packages (2.2.4)\n",
      "Requirement already satisfied: numpy in /Library/Frameworks/Python.framework/Versions/3.7/lib/python3.7/site-packages (1.15.2)\n",
      "Requirement already satisfied: tensorflow in /Library/Frameworks/Python.framework/Versions/3.7/lib/python3.7/site-packages (1.13.1)\n",
      "Requirement already satisfied: keras-preprocessing>=1.0.5 in /Library/Frameworks/Python.framework/Versions/3.7/lib/python3.7/site-packages (from keras) (1.0.9)\n",
      "Requirement already satisfied: pyyaml in /Library/Frameworks/Python.framework/Versions/3.7/lib/python3.7/site-packages (from keras) (5.1)\n",
      "Requirement already satisfied: h5py in /Library/Frameworks/Python.framework/Versions/3.7/lib/python3.7/site-packages (from keras) (2.8.0)\n",
      "Requirement already satisfied: keras-applications>=1.0.6 in /Library/Frameworks/Python.framework/Versions/3.7/lib/python3.7/site-packages (from keras) (1.0.7)\n",
      "Requirement already satisfied: scipy>=0.14 in /Library/Frameworks/Python.framework/Versions/3.7/lib/python3.7/site-packages (from keras) (1.1.0)\n",
      "Requirement already satisfied: six>=1.9.0 in /Library/Frameworks/Python.framework/Versions/3.7/lib/python3.7/site-packages (from keras) (1.11.0)\n",
      "Requirement already satisfied: termcolor>=1.1.0 in /Library/Frameworks/Python.framework/Versions/3.7/lib/python3.7/site-packages (from tensorflow) (1.1.0)\n",
      "Requirement already satisfied: protobuf>=3.6.1 in /Library/Frameworks/Python.framework/Versions/3.7/lib/python3.7/site-packages (from tensorflow) (3.7.1)\n",
      "Requirement already satisfied: tensorflow-estimator<1.14.0rc0,>=1.13.0 in /Library/Frameworks/Python.framework/Versions/3.7/lib/python3.7/site-packages (from tensorflow) (1.13.0)\n",
      "Requirement already satisfied: wheel>=0.26 in /Library/Frameworks/Python.framework/Versions/3.7/lib/python3.7/site-packages (from tensorflow) (0.33.1)\n",
      "Requirement already satisfied: grpcio>=1.8.6 in /Library/Frameworks/Python.framework/Versions/3.7/lib/python3.7/site-packages (from tensorflow) (1.19.0)\n",
      "Requirement already satisfied: astor>=0.6.0 in /Library/Frameworks/Python.framework/Versions/3.7/lib/python3.7/site-packages (from tensorflow) (0.7.1)\n",
      "Requirement already satisfied: absl-py>=0.1.6 in /Library/Frameworks/Python.framework/Versions/3.7/lib/python3.7/site-packages (from tensorflow) (0.7.1)\n",
      "Requirement already satisfied: tensorboard<1.14.0,>=1.13.0 in /Library/Frameworks/Python.framework/Versions/3.7/lib/python3.7/site-packages (from tensorflow) (1.13.1)\n",
      "Requirement already satisfied: gast>=0.2.0 in /Library/Frameworks/Python.framework/Versions/3.7/lib/python3.7/site-packages (from tensorflow) (0.2.2)\n",
      "Requirement already satisfied: setuptools in /Library/Frameworks/Python.framework/Versions/3.7/lib/python3.7/site-packages (from protobuf>=3.6.1->tensorflow) (39.0.1)\n",
      "Requirement already satisfied: mock>=2.0.0 in /Library/Frameworks/Python.framework/Versions/3.7/lib/python3.7/site-packages (from tensorflow-estimator<1.14.0rc0,>=1.13.0->tensorflow) (2.0.0)\n",
      "Requirement already satisfied: markdown>=2.6.8 in /Library/Frameworks/Python.framework/Versions/3.7/lib/python3.7/site-packages (from tensorboard<1.14.0,>=1.13.0->tensorflow) (3.1)\n",
      "Requirement already satisfied: werkzeug>=0.11.15 in /Library/Frameworks/Python.framework/Versions/3.7/lib/python3.7/site-packages (from tensorboard<1.14.0,>=1.13.0->tensorflow) (0.15.2)\n",
      "Requirement already satisfied: pbr>=0.11 in /Library/Frameworks/Python.framework/Versions/3.7/lib/python3.7/site-packages (from mock>=2.0.0->tensorflow-estimator<1.14.0rc0,>=1.13.0->tensorflow) (5.1.3)\n",
      "\u001b[33mYou are using pip version 18.1, however version 19.0.3 is available.\n",
      "You should consider upgrading via the 'pip install --upgrade pip' command.\u001b[0m\n"
     ]
    }
   ],
   "source": [
    "import sys\n",
    "!{sys.executable} -m pip install keras numpy tensorflow"
   ]
  },
  {
   "cell_type": "markdown",
   "metadata": {},
   "source": [
    "### Importing libraries"
   ]
  },
  {
   "cell_type": "code",
   "execution_count": 3,
   "metadata": {},
   "outputs": [
    {
     "name": "stderr",
     "output_type": "stream",
     "text": [
      "Using TensorFlow backend.\n"
     ]
    }
   ],
   "source": [
    "from keras.models import Sequential\n",
    "from keras.layers import Dense\n",
    "import numpy"
   ]
  },
  {
   "cell_type": "markdown",
   "metadata": {},
   "source": [
    "### Loading data"
   ]
  },
  {
   "cell_type": "code",
   "execution_count": 4,
   "metadata": {},
   "outputs": [],
   "source": [
    "# load pima indians dataset\n",
    "dataset = numpy.loadtxt(\"pima-indians-diabetes.csv\", delimiter=\",\")"
   ]
  },
  {
   "cell_type": "markdown",
   "metadata": {},
   "source": [
    "### Dataset columns\n",
    "For now we'll keep it very simple: no separation in train/dev/test sets. \n",
    "#### Input X :\n",
    "- Number of times pregnant\n",
    "- Plasma glucose concentration a 2 hours in an oral glucose tolerance test\n",
    "- Diastolic blood pressure (mm Hg)\n",
    "- Triceps skin fold thickness (mm)\n",
    "- 2-Hour serum insulin (mu U/ml)\n",
    "- Body mass index (weight in kg/(height in m)^2)\n",
    "- Diabetes pedigree function\n",
    "- Age (years)\n",
    "\n",
    "#### Output Y :\n",
    "- Class variable (0 or 1) "
   ]
  },
  {
   "cell_type": "code",
   "execution_count": 5,
   "metadata": {},
   "outputs": [],
   "source": [
    "# split into input (X) and output (Y) variables\n",
    "X = dataset[:,0:8]\n",
    "Y = dataset[:,8]"
   ]
  },
  {
   "cell_type": "markdown",
   "metadata": {},
   "source": [
    "### Creating the model\n",
    "* We have 8 inputs from X\n",
    "* 1 output in Y\n",
    "* We'll use 3 fully connected layers, the first having 12 neurons for 8 inputs, then 8 neurons, and finally 1 for the binary output prediction.\n",
    "* We'll leave the default weight initialization."
   ]
  },
  {
   "cell_type": "code",
   "execution_count": 9,
   "metadata": {},
   "outputs": [],
   "source": [
    "model = Sequential()\n",
    "model.add(Dense(12, input_dim=8, activation='relu'))\n",
    "model.add(Dense(8, activation='relu'))\n",
    "model.add(Dense(1, activation='sigmoid'))\n",
    "\n",
    "model.compile(loss='binary_crossentropy', optimizer='adam', metrics=['accuracy'])"
   ]
  },
  {
   "cell_type": "markdown",
   "metadata": {},
   "source": [
    "### Training the Neural Net\n",
    "* A.k.a fitting the model.\n",
    "* `epochs` is the number of times the training data is passed through the neural net. \n",
    "* `batch_size` is the number of training example let throught the net at each forward/backward propagation step. Weights are updated after each step. Convergence should be faster."
   ]
  },
  {
   "cell_type": "code",
   "execution_count": 8,
   "metadata": {},
   "outputs": [
    {
     "name": "stdout",
     "output_type": "stream",
     "text": [
      "Epoch 1/150\n",
      "768/768 [==============================] - 0s 230us/step - loss: 0.6568 - acc: 0.6706\n",
      "Epoch 2/150\n",
      "768/768 [==============================] - 0s 195us/step - loss: 0.6664 - acc: 0.6393\n",
      "Epoch 3/150\n",
      "768/768 [==============================] - 0s 198us/step - loss: 0.6465 - acc: 0.6641\n",
      "Epoch 4/150\n",
      "768/768 [==============================] - 0s 198us/step - loss: 0.6666 - acc: 0.6680\n",
      "Epoch 5/150\n",
      "768/768 [==============================] - 0s 192us/step - loss: 0.6471 - acc: 0.6771\n",
      "Epoch 6/150\n",
      "768/768 [==============================] - 0s 191us/step - loss: 0.6237 - acc: 0.6836\n",
      "Epoch 7/150\n",
      "768/768 [==============================] - 0s 213us/step - loss: 0.6098 - acc: 0.6875\n",
      "Epoch 8/150\n",
      "768/768 [==============================] - 0s 191us/step - loss: 0.6168 - acc: 0.6849\n",
      "Epoch 9/150\n",
      "768/768 [==============================] - 0s 198us/step - loss: 0.6251 - acc: 0.6680\n",
      "Epoch 10/150\n",
      "768/768 [==============================] - 0s 190us/step - loss: 0.6338 - acc: 0.6510\n",
      "Epoch 11/150\n",
      "768/768 [==============================] - 0s 212us/step - loss: 0.5962 - acc: 0.6901\n",
      "Epoch 12/150\n",
      "768/768 [==============================] - 0s 188us/step - loss: 0.5838 - acc: 0.6992\n",
      "Epoch 13/150\n",
      "768/768 [==============================] - 0s 305us/step - loss: 0.5834 - acc: 0.6966\n",
      "Epoch 14/150\n",
      "768/768 [==============================] - 0s 261us/step - loss: 0.5948 - acc: 0.6823\n",
      "Epoch 15/150\n",
      "768/768 [==============================] - 0s 198us/step - loss: 0.5919 - acc: 0.6784\n",
      "Epoch 16/150\n",
      "768/768 [==============================] - 0s 198us/step - loss: 0.5893 - acc: 0.6888\n",
      "Epoch 17/150\n",
      "768/768 [==============================] - 0s 191us/step - loss: 0.5701 - acc: 0.7214\n",
      "Epoch 18/150\n",
      "768/768 [==============================] - 0s 196us/step - loss: 0.5693 - acc: 0.6966\n",
      "Epoch 19/150\n",
      "768/768 [==============================] - 0s 217us/step - loss: 0.5778 - acc: 0.7005\n",
      "Epoch 20/150\n",
      "768/768 [==============================] - 0s 200us/step - loss: 0.5707 - acc: 0.7096\n",
      "Epoch 21/150\n",
      "768/768 [==============================] - 0s 192us/step - loss: 0.5628 - acc: 0.7240\n",
      "Epoch 22/150\n",
      "768/768 [==============================] - 0s 190us/step - loss: 0.5792 - acc: 0.7109\n",
      "Epoch 23/150\n",
      "768/768 [==============================] - 0s 195us/step - loss: 0.5741 - acc: 0.6901\n",
      "Epoch 24/150\n",
      "768/768 [==============================] - 0s 195us/step - loss: 0.5932 - acc: 0.6992\n",
      "Epoch 25/150\n",
      "768/768 [==============================] - 0s 190us/step - loss: 0.5755 - acc: 0.6979\n",
      "Epoch 26/150\n",
      "768/768 [==============================] - 0s 190us/step - loss: 0.5819 - acc: 0.6992\n",
      "Epoch 27/150\n",
      "768/768 [==============================] - 0s 193us/step - loss: 0.5605 - acc: 0.7096\n",
      "Epoch 28/150\n",
      "768/768 [==============================] - 0s 196us/step - loss: 0.5585 - acc: 0.7135\n",
      "Epoch 29/150\n",
      "768/768 [==============================] - 0s 190us/step - loss: 0.5512 - acc: 0.7188\n",
      "Epoch 30/150\n",
      "768/768 [==============================] - 0s 212us/step - loss: 0.5512 - acc: 0.6979\n",
      "Epoch 31/150\n",
      "768/768 [==============================] - 0s 191us/step - loss: 0.5454 - acc: 0.7214\n",
      "Epoch 32/150\n",
      "768/768 [==============================] - 0s 190us/step - loss: 0.5612 - acc: 0.7031\n",
      "Epoch 33/150\n",
      "768/768 [==============================] - 0s 191us/step - loss: 0.5605 - acc: 0.7292\n",
      "Epoch 34/150\n",
      "768/768 [==============================] - 0s 188us/step - loss: 0.5632 - acc: 0.7201\n",
      "Epoch 35/150\n",
      "768/768 [==============================] - 0s 189us/step - loss: 0.5517 - acc: 0.7383\n",
      "Epoch 36/150\n",
      "768/768 [==============================] - 0s 195us/step - loss: 0.5474 - acc: 0.7083\n",
      "Epoch 37/150\n",
      "768/768 [==============================] - 0s 192us/step - loss: 0.5424 - acc: 0.7201\n",
      "Epoch 38/150\n",
      "768/768 [==============================] - 0s 190us/step - loss: 0.5567 - acc: 0.7096\n",
      "Epoch 39/150\n",
      "768/768 [==============================] - 0s 188us/step - loss: 0.5545 - acc: 0.7318\n",
      "Epoch 40/150\n",
      "768/768 [==============================] - 0s 191us/step - loss: 0.5591 - acc: 0.7187\n",
      "Epoch 41/150\n",
      "768/768 [==============================] - 0s 190us/step - loss: 0.5371 - acc: 0.7357\n",
      "Epoch 42/150\n",
      "768/768 [==============================] - 0s 187us/step - loss: 0.5486 - acc: 0.7057\n",
      "Epoch 43/150\n",
      "768/768 [==============================] - 0s 188us/step - loss: 0.5636 - acc: 0.7174\n",
      "Epoch 44/150\n",
      "768/768 [==============================] - 0s 191us/step - loss: 0.5377 - acc: 0.7370\n",
      "Epoch 45/150\n",
      "768/768 [==============================] - 0s 194us/step - loss: 0.5339 - acc: 0.7318\n",
      "Epoch 46/150\n",
      "768/768 [==============================] - 0s 192us/step - loss: 0.5359 - acc: 0.7409\n",
      "Epoch 47/150\n",
      "768/768 [==============================] - 0s 201us/step - loss: 0.5413 - acc: 0.7109\n",
      "Epoch 48/150\n",
      "768/768 [==============================] - 0s 197us/step - loss: 0.5378 - acc: 0.7344\n",
      "Epoch 49/150\n",
      "768/768 [==============================] - 0s 193us/step - loss: 0.5341 - acc: 0.7357\n",
      "Epoch 50/150\n",
      "768/768 [==============================] - 0s 206us/step - loss: 0.5475 - acc: 0.7214\n",
      "Epoch 51/150\n",
      "768/768 [==============================] - 0s 192us/step - loss: 0.5529 - acc: 0.7214\n",
      "Epoch 52/150\n",
      "768/768 [==============================] - 0s 189us/step - loss: 0.5282 - acc: 0.7318\n",
      "Epoch 53/150\n",
      "768/768 [==============================] - 0s 199us/step - loss: 0.5342 - acc: 0.7266\n",
      "Epoch 54/150\n",
      "768/768 [==============================] - 0s 189us/step - loss: 0.5422 - acc: 0.7161\n",
      "Epoch 55/150\n",
      "768/768 [==============================] - 0s 191us/step - loss: 0.5257 - acc: 0.7526\n",
      "Epoch 56/150\n",
      "768/768 [==============================] - 0s 190us/step - loss: 0.5443 - acc: 0.7370\n",
      "Epoch 57/150\n",
      "768/768 [==============================] - 0s 193us/step - loss: 0.5341 - acc: 0.7318\n",
      "Epoch 58/150\n",
      "768/768 [==============================] - 0s 189us/step - loss: 0.5344 - acc: 0.7201\n",
      "Epoch 59/150\n",
      "768/768 [==============================] - 0s 188us/step - loss: 0.5284 - acc: 0.7383\n",
      "Epoch 60/150\n",
      "768/768 [==============================] - 0s 190us/step - loss: 0.5238 - acc: 0.7448\n",
      "Epoch 61/150\n",
      "768/768 [==============================] - 0s 187us/step - loss: 0.5230 - acc: 0.7396\n",
      "Epoch 62/150\n",
      "768/768 [==============================] - 0s 212us/step - loss: 0.5229 - acc: 0.7487\n",
      "Epoch 63/150\n",
      "768/768 [==============================] - 0s 216us/step - loss: 0.5282 - acc: 0.7383\n",
      "Epoch 64/150\n",
      "768/768 [==============================] - 0s 197us/step - loss: 0.5311 - acc: 0.7240\n",
      "Epoch 65/150\n",
      "768/768 [==============================] - 0s 223us/step - loss: 0.5212 - acc: 0.7643\n",
      "Epoch 66/150\n",
      "768/768 [==============================] - 0s 200us/step - loss: 0.5218 - acc: 0.7474\n",
      "Epoch 67/150\n",
      "768/768 [==============================] - 0s 214us/step - loss: 0.5129 - acc: 0.7461\n",
      "Epoch 68/150\n",
      "768/768 [==============================] - 0s 242us/step - loss: 0.5383 - acc: 0.7266\n",
      "Epoch 69/150\n",
      "768/768 [==============================] - 0s 247us/step - loss: 0.5125 - acc: 0.7617\n",
      "Epoch 70/150\n",
      "768/768 [==============================] - 0s 234us/step - loss: 0.5203 - acc: 0.7435\n",
      "Epoch 71/150\n",
      "768/768 [==============================] - 0s 247us/step - loss: 0.5309 - acc: 0.7461\n",
      "Epoch 72/150\n",
      "768/768 [==============================] - 0s 228us/step - loss: 0.5307 - acc: 0.7344\n",
      "Epoch 73/150\n",
      "768/768 [==============================] - 0s 242us/step - loss: 0.5202 - acc: 0.7266\n",
      "Epoch 74/150\n",
      "768/768 [==============================] - 0s 228us/step - loss: 0.5132 - acc: 0.7500\n",
      "Epoch 75/150\n",
      "768/768 [==============================] - 0s 228us/step - loss: 0.5291 - acc: 0.7357\n",
      "Epoch 76/150\n",
      "768/768 [==============================] - 0s 222us/step - loss: 0.5113 - acc: 0.7539\n",
      "Epoch 77/150\n",
      "768/768 [==============================] - 0s 220us/step - loss: 0.5199 - acc: 0.7370\n",
      "Epoch 78/150\n",
      "768/768 [==============================] - 0s 237us/step - loss: 0.5229 - acc: 0.7448\n",
      "Epoch 79/150\n",
      "768/768 [==============================] - 0s 324us/step - loss: 0.5295 - acc: 0.7383\n",
      "Epoch 80/150\n",
      "768/768 [==============================] - 0s 258us/step - loss: 0.5206 - acc: 0.7435\n",
      "Epoch 81/150\n",
      "768/768 [==============================] - 0s 198us/step - loss: 0.5114 - acc: 0.7383\n",
      "Epoch 82/150\n",
      "768/768 [==============================] - 0s 192us/step - loss: 0.5248 - acc: 0.7461\n",
      "Epoch 83/150\n"
     ]
    },
    {
     "name": "stdout",
     "output_type": "stream",
     "text": [
      "768/768 [==============================] - 0s 283us/step - loss: 0.5085 - acc: 0.7565\n",
      "Epoch 84/150\n",
      "768/768 [==============================] - 0s 214us/step - loss: 0.5095 - acc: 0.7526\n",
      "Epoch 85/150\n",
      "768/768 [==============================] - 0s 203us/step - loss: 0.5248 - acc: 0.7513\n",
      "Epoch 86/150\n",
      "768/768 [==============================] - 0s 232us/step - loss: 0.5484 - acc: 0.7214\n",
      "Epoch 87/150\n",
      "768/768 [==============================] - 0s 182us/step - loss: 0.5056 - acc: 0.7461\n",
      "Epoch 88/150\n",
      "768/768 [==============================] - 0s 180us/step - loss: 0.4996 - acc: 0.7604\n",
      "Epoch 89/150\n",
      "768/768 [==============================] - 0s 178us/step - loss: 0.5125 - acc: 0.7383\n",
      "Epoch 90/150\n",
      "768/768 [==============================] - 0s 179us/step - loss: 0.5248 - acc: 0.7552\n",
      "Epoch 91/150\n",
      "768/768 [==============================] - 0s 165us/step - loss: 0.5118 - acc: 0.7565\n",
      "Epoch 92/150\n",
      "768/768 [==============================] - 0s 189us/step - loss: 0.5091 - acc: 0.7474\n",
      "Epoch 93/150\n",
      "768/768 [==============================] - 0s 189us/step - loss: 0.5096 - acc: 0.7474\n",
      "Epoch 94/150\n",
      "768/768 [==============================] - 0s 182us/step - loss: 0.5067 - acc: 0.7695\n",
      "Epoch 95/150\n",
      "768/768 [==============================] - 0s 198us/step - loss: 0.5096 - acc: 0.7539\n",
      "Epoch 96/150\n",
      "768/768 [==============================] - 0s 212us/step - loss: 0.5119 - acc: 0.7513\n",
      "Epoch 97/150\n",
      "768/768 [==============================] - 0s 195us/step - loss: 0.5321 - acc: 0.7461\n",
      "Epoch 98/150\n",
      "768/768 [==============================] - 0s 202us/step - loss: 0.5227 - acc: 0.7461\n",
      "Epoch 99/150\n",
      "768/768 [==============================] - 0s 231us/step - loss: 0.4978 - acc: 0.7487\n",
      "Epoch 100/150\n",
      "768/768 [==============================] - 0s 242us/step - loss: 0.4988 - acc: 0.7604\n",
      "Epoch 101/150\n",
      "768/768 [==============================] - 0s 239us/step - loss: 0.4972 - acc: 0.7552\n",
      "Epoch 102/150\n",
      "768/768 [==============================] - 0s 227us/step - loss: 0.5039 - acc: 0.7435\n",
      "Epoch 103/150\n",
      "768/768 [==============================] - 0s 244us/step - loss: 0.4925 - acc: 0.7513\n",
      "Epoch 104/150\n",
      "768/768 [==============================] - 0s 280us/step - loss: 0.4913 - acc: 0.7552\n",
      "Epoch 105/150\n",
      "768/768 [==============================] - 0s 245us/step - loss: 0.4983 - acc: 0.7422\n",
      "Epoch 106/150\n",
      "768/768 [==============================] - 0s 255us/step - loss: 0.4951 - acc: 0.7578\n",
      "Epoch 107/150\n",
      "768/768 [==============================] - 0s 261us/step - loss: 0.5083 - acc: 0.7487\n",
      "Epoch 108/150\n",
      "768/768 [==============================] - 0s 222us/step - loss: 0.5062 - acc: 0.7552\n",
      "Epoch 109/150\n",
      "768/768 [==============================] - 0s 244us/step - loss: 0.4969 - acc: 0.7500\n",
      "Epoch 110/150\n",
      "768/768 [==============================] - 0s 252us/step - loss: 0.4980 - acc: 0.7643\n",
      "Epoch 111/150\n",
      "768/768 [==============================] - 0s 230us/step - loss: 0.4977 - acc: 0.7370\n",
      "Epoch 112/150\n",
      "768/768 [==============================] - 0s 257us/step - loss: 0.4872 - acc: 0.7578\n",
      "Epoch 113/150\n",
      "768/768 [==============================] - 0s 237us/step - loss: 0.4905 - acc: 0.7578\n",
      "Epoch 114/150\n",
      "768/768 [==============================] - 0s 240us/step - loss: 0.4877 - acc: 0.7682\n",
      "Epoch 115/150\n",
      "768/768 [==============================] - 0s 247us/step - loss: 0.4927 - acc: 0.7565\n",
      "Epoch 116/150\n",
      "768/768 [==============================] - 0s 231us/step - loss: 0.4940 - acc: 0.7591\n",
      "Epoch 117/150\n",
      "768/768 [==============================] - 0s 233us/step - loss: 0.5014 - acc: 0.7617\n",
      "Epoch 118/150\n",
      "768/768 [==============================] - 0s 256us/step - loss: 0.4956 - acc: 0.7565\n",
      "Epoch 119/150\n",
      "768/768 [==============================] - 0s 242us/step - loss: 0.4944 - acc: 0.7539 0s - loss: 0.5156 - acc: 0.7\n",
      "Epoch 120/150\n",
      "768/768 [==============================] - 0s 259us/step - loss: 0.4825 - acc: 0.7695\n",
      "Epoch 121/150\n",
      "768/768 [==============================] - 0s 246us/step - loss: 0.4821 - acc: 0.7669\n",
      "Epoch 122/150\n",
      "768/768 [==============================] - 0s 229us/step - loss: 0.5072 - acc: 0.7682\n",
      "Epoch 123/150\n",
      "768/768 [==============================] - 0s 228us/step - loss: 0.4808 - acc: 0.7552\n",
      "Epoch 124/150\n",
      "768/768 [==============================] - 0s 224us/step - loss: 0.4953 - acc: 0.7643\n",
      "Epoch 125/150\n",
      "768/768 [==============================] - 0s 222us/step - loss: 0.4845 - acc: 0.7708\n",
      "Epoch 126/150\n",
      "768/768 [==============================] - 0s 199us/step - loss: 0.4913 - acc: 0.7669\n",
      "Epoch 127/150\n",
      "768/768 [==============================] - 0s 196us/step - loss: 0.4944 - acc: 0.7669\n",
      "Epoch 128/150\n",
      "768/768 [==============================] - 0s 190us/step - loss: 0.4855 - acc: 0.7630\n",
      "Epoch 129/150\n",
      "768/768 [==============================] - 0s 206us/step - loss: 0.4900 - acc: 0.7812\n",
      "Epoch 130/150\n",
      "768/768 [==============================] - 0s 203us/step - loss: 0.4802 - acc: 0.7734\n",
      "Epoch 131/150\n",
      "768/768 [==============================] - 0s 192us/step - loss: 0.4961 - acc: 0.7565\n",
      "Epoch 132/150\n",
      "768/768 [==============================] - 0s 201us/step - loss: 0.4880 - acc: 0.7617\n",
      "Epoch 133/150\n",
      "768/768 [==============================] - 0s 191us/step - loss: 0.4867 - acc: 0.7773\n",
      "Epoch 134/150\n",
      "768/768 [==============================] - 0s 283us/step - loss: 0.4866 - acc: 0.7656\n",
      "Epoch 135/150\n",
      "768/768 [==============================] - 0s 506us/step - loss: 0.4837 - acc: 0.7721\n",
      "Epoch 136/150\n",
      "768/768 [==============================] - 0s 212us/step - loss: 0.4770 - acc: 0.7813\n",
      "Epoch 137/150\n",
      "768/768 [==============================] - 0s 244us/step - loss: 0.4915 - acc: 0.7682\n",
      "Epoch 138/150\n",
      "768/768 [==============================] - 0s 232us/step - loss: 0.4879 - acc: 0.7552\n",
      "Epoch 139/150\n",
      "768/768 [==============================] - 0s 196us/step - loss: 0.4890 - acc: 0.7760\n",
      "Epoch 140/150\n",
      "768/768 [==============================] - 0s 202us/step - loss: 0.4829 - acc: 0.7643\n",
      "Epoch 141/150\n",
      "768/768 [==============================] - 0s 210us/step - loss: 0.4855 - acc: 0.7669\n",
      "Epoch 142/150\n",
      "768/768 [==============================] - 0s 200us/step - loss: 0.4851 - acc: 0.7669\n",
      "Epoch 143/150\n",
      "768/768 [==============================] - 0s 216us/step - loss: 0.4768 - acc: 0.7878\n",
      "Epoch 144/150\n",
      "768/768 [==============================] - 0s 206us/step - loss: 0.5021 - acc: 0.7604\n",
      "Epoch 145/150\n",
      "768/768 [==============================] - 0s 181us/step - loss: 0.4780 - acc: 0.7760\n",
      "Epoch 146/150\n",
      "768/768 [==============================] - 0s 173us/step - loss: 0.4853 - acc: 0.7682\n",
      "Epoch 147/150\n",
      "768/768 [==============================] - 0s 187us/step - loss: 0.4795 - acc: 0.7552\n",
      "Epoch 148/150\n",
      "768/768 [==============================] - 0s 190us/step - loss: 0.5037 - acc: 0.7630\n",
      "Epoch 149/150\n",
      "768/768 [==============================] - 0s 189us/step - loss: 0.4759 - acc: 0.7695\n",
      "Epoch 150/150\n",
      "768/768 [==============================] - 0s 192us/step - loss: 0.4808 - acc: 0.7721\n"
     ]
    },
    {
     "data": {
      "text/plain": [
       "<keras.callbacks.History at 0x123769cc0>"
      ]
     },
     "execution_count": 8,
     "metadata": {},
     "output_type": "execute_result"
    }
   ],
   "source": [
    "model.fit(X, Y, epochs=150, batch_size=10)"
   ]
  },
  {
   "cell_type": "markdown",
   "metadata": {},
   "source": [
    "### Evaluating the Neural Net\n",
    "This should ideally be performed on the test set, but for simplicity, we have only a train set here."
   ]
  },
  {
   "cell_type": "code",
   "execution_count": 13,
   "metadata": {},
   "outputs": [
    {
     "name": "stdout",
     "output_type": "stream",
     "text": [
      "768/768 [==============================] - 0s 34us/step\n",
      "\n",
      "acc: 35.29%\n"
     ]
    }
   ],
   "source": [
    "# evaluate the model\n",
    "scores = model.evaluate(X, Y)\n",
    "print(\"\\n%s: %.2f%%\" % (model.metrics_names[1], scores[1]*100))"
   ]
  },
  {
   "cell_type": "markdown",
   "metadata": {},
   "source": [
    "### Making predictions\n",
    "Predictions are rounded towards 0 or 1 to get a clean result, because as the output comes from the sigmoid function, it will be some value anywhere between 0 and 1."
   ]
  },
  {
   "cell_type": "code",
   "execution_count": 19,
   "metadata": {},
   "outputs": [
    {
     "name": "stdout",
     "output_type": "stream",
     "text": [
      "[1.0, 1.0, 1.0, 1.0, 1.0, 1.0, 1.0, 1.0, 0.0, 1.0, 1.0, 1.0, 1.0, 0.0, 1.0, 1.0, 0.0, 1.0, 1.0, 1.0] ...\n"
     ]
    }
   ],
   "source": [
    "# calculate predictions\n",
    "predictions = model.predict(X)\n",
    "# round predictions\n",
    "rounded = [round(x[0]) for x in predictions]\n",
    "# show the 20 first predictions\n",
    "print(rounded[:20], '...')"
   ]
  }
 ],
 "metadata": {
  "kernelspec": {
   "display_name": "Python 3",
   "language": "python",
   "name": "python3"
  }
 },
 "nbformat": 4,
 "nbformat_minor": 2
}
